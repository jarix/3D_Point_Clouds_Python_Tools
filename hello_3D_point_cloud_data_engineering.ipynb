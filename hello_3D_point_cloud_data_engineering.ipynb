{
 "cells": [
  {
   "cell_type": "markdown",
   "id": "414403c4",
   "metadata": {},
   "source": [
    "# Hello Point Cloud Data Engineering\n",
    "\n",
    "Example code how to preprocess and clean up Point Cloud Data"
   ]
  },
  {
   "cell_type": "code",
   "execution_count": 1,
   "id": "0b0cd4b9",
   "metadata": {},
   "outputs": [
    {
     "name": "stdout",
     "output_type": "stream",
     "text": [
      "Jupyter environment detected. Enabling Open3D WebVisualizer.\n",
      "[Open3D INFO] WebRTC GUI backend enabled.\n",
      "[Open3D INFO] WebRTCWindowSystem: HTTP handshake server disabled.\n",
      "Python version:  3.12.7 (tags/v3.12.7:0b05ead, Oct  1 2024, 03:06:41) [MSC v.1941 64 bit (AMD64)]\n",
      "Open3D version:  0.19.0\n"
     ]
    }
   ],
   "source": [
    "# Prerequisites:\n",
    "import sys\n",
    "import numpy as np\n",
    "import pandas as pd\n",
    "import matplotlib.pyplot as plt\n",
    "%matplotlib inline\n",
    "\n",
    "import open3d as o3d\n",
    "\n",
    "print(\"Python version: \", sys.version)\n",
    "print(\"Open3D version: \", o3d.__version__)\n"
   ]
  },
  {
   "cell_type": "markdown",
   "id": "367ff5f4",
   "metadata": {},
   "source": [
    "### Get Open3D Sample Dataset"
   ]
  },
  {
   "cell_type": "code",
   "execution_count": 7,
   "id": "e07fc9ff",
   "metadata": {},
   "outputs": [
    {
     "name": "stdout",
     "output_type": "stream",
     "text": [
      "Point cloud loaded:\n",
      "PointCloud with 196133 points.\n",
      "Number of points: 196133\n"
     ]
    }
   ],
   "source": [
    "# Load a sample PLY file from Open3D's built-in data\n",
    "sample_pcd = o3d.data.PLYPointCloud()\n",
    "pcd = o3d.io.read_point_cloud(sample_pcd.path)\n",
    "\n",
    "print(\"Point cloud loaded:\")\n",
    "print(pcd)\n",
    "print(f\"Number of points: {len(pcd.points)}\")\n",
    "\n",
    "# Visualize\n",
    "o3d.visualization.draw_geometries([pcd], window_name=\"O3D Viewer\", \n",
    "                                  width=800, height=600, point_show_normal=False)\n"
   ]
  },
  {
   "cell_type": "markdown",
   "id": "cf5a11b1",
   "metadata": {},
   "source": [
    "### Shift and Center the point cloud"
   ]
  },
  {
   "cell_type": "code",
   "execution_count": 8,
   "id": "e8ec8a4c",
   "metadata": {},
   "outputs": [
    {
     "name": "stdout",
     "output_type": "stream",
     "text": [
      "Point cloud center:  [2.14627542 1.91609881 1.57331578]\n"
     ]
    },
    {
     "data": {
      "text/plain": [
       "PointCloud with 196133 points."
      ]
     },
     "execution_count": 8,
     "metadata": {},
     "output_type": "execute_result"
    }
   ],
   "source": [
    "pcd_center = pcd.get_center()\n",
    "print(\"Point cloud center: \", pcd_center)\n",
    "# Translate the point cloud to the origin\n",
    "pcd.translate(-pcd_center)"
   ]
  },
  {
   "cell_type": "markdown",
   "id": "adebd2eb",
   "metadata": {},
   "source": [
    "### Downsample the Point Cloud"
   ]
  },
  {
   "cell_type": "code",
   "execution_count": 9,
   "id": "5dc9bd40",
   "metadata": {},
   "outputs": [
    {
     "name": "stdout",
     "output_type": "stream",
     "text": [
      "Number of points: 98066\n"
     ]
    }
   ],
   "source": [
    "sampling_ratio = 0.5\n",
    "pcd_down_sampled = pcd.random_down_sample(sampling_ratio)\n",
    "print(f\"Number of points: {len(pcd_down_sampled.points)}\")\n",
    "# Visualize\n",
    "o3d.visualization.draw_geometries([pcd_down_sampled], window_name=\"O3D Viewer\", \n",
    "                                  width=800, height=600, point_show_normal=False)"
   ]
  },
  {
   "cell_type": "markdown",
   "id": "4c90495e",
   "metadata": {},
   "source": [
    "### Outlier Removal"
   ]
  },
  {
   "cell_type": "code",
   "execution_count": 15,
   "id": "024391b4",
   "metadata": {},
   "outputs": [
    {
     "name": "stdout",
     "output_type": "stream",
     "text": [
      "Number of outliers: 1043\n"
     ]
    }
   ],
   "source": [
    "nn = 16\n",
    "std_multiplier = 3\n",
    "pcd_filtered, idx_filtered = pcd.remove_statistical_outlier(nn, std_multiplier)\n",
    "print(f\"Number of outliers: {len(pcd.points) - len(pcd_filtered.points)}\")\n"
   ]
  },
  {
   "cell_type": "code",
   "execution_count": 16,
   "id": "45b0be38",
   "metadata": {},
   "outputs": [],
   "source": [
    "# Color outliers in red\n",
    "outliers = pcd.select_by_index(idx_filtered, invert=True)\n",
    "outliers.paint_uniform_color([1, 0, 0])\n",
    "o3d.visualization.draw_geometries([pcd_filtered, outliers])"
   ]
  },
  {
   "cell_type": "code",
   "execution_count": null,
   "id": "ce1690ad",
   "metadata": {},
   "outputs": [],
   "source": []
  }
 ],
 "metadata": {
  "kernelspec": {
   "display_name": ".venv",
   "language": "python",
   "name": "python3"
  },
  "language_info": {
   "codemirror_mode": {
    "name": "ipython",
    "version": 3
   },
   "file_extension": ".py",
   "mimetype": "text/x-python",
   "name": "python",
   "nbconvert_exporter": "python",
   "pygments_lexer": "ipython3",
   "version": "3.12.7"
  }
 },
 "nbformat": 4,
 "nbformat_minor": 5
}
