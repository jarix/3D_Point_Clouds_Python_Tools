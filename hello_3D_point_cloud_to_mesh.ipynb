{
 "cells": [
  {
   "cell_type": "markdown",
   "id": "9d1a31f3",
   "metadata": {},
   "source": [
    "# Hello 3D Point Cloud to Mesh"
   ]
  },
  {
   "cell_type": "code",
   "execution_count": 1,
   "id": "fad74e0d",
   "metadata": {},
   "outputs": [
    {
     "name": "stdout",
     "output_type": "stream",
     "text": [
      "Jupyter environment detected. Enabling Open3D WebVisualizer.\n",
      "[Open3D INFO] WebRTC GUI backend enabled.\n",
      "[Open3D INFO] WebRTCWindowSystem: HTTP handshake server disabled.\n"
     ]
    }
   ],
   "source": [
    "# Prerequisites and Dependencies\n",
    "import numpy as np\n",
    "import open3d as o3d  \n",
    "\n"
   ]
  },
  {
   "cell_type": "markdown",
   "id": "1635a897",
   "metadata": {},
   "source": [
    "### Load Point Cloud to Numpy Array"
   ]
  },
  {
   "cell_type": "code",
   "execution_count": 8,
   "id": "9e550359",
   "metadata": {},
   "outputs": [
    {
     "name": "stdout",
     "output_type": "stream",
     "text": [
      "Shape of numpy array:  (5100, 6)\n"
     ]
    }
   ],
   "source": [
    "file_path = \"point_clouds_synthetic/duck_rainbow.xyzrgb\"\n",
    "\n",
    "pc = np.loadtxt(file_path)\n",
    "print(\"Shape of numpy array: \", pc.shape)"
   ]
  },
  {
   "cell_type": "markdown",
   "id": "68f0f217",
   "metadata": {},
   "source": [
    "### Transform from Numpy to Open3D"
   ]
  },
  {
   "cell_type": "code",
   "execution_count": 10,
   "id": "f9d17e15",
   "metadata": {},
   "outputs": [],
   "source": [
    "pcd = o3d.geometry.PointCloud()\n",
    "pcd.points = o3d.utility.Vector3dVector(pc[:,:3]) # XYZ\n",
    "pcd.colors = o3d.utility.Vector3dVector(pc[:,3:6]/255) # RGB\n",
    "# pcd.normals = o3d.utility.Vector3dVector(pc[:,6:9]) # Normals\n"
   ]
  },
  {
   "cell_type": "markdown",
   "id": "c1ef1c5f",
   "metadata": {},
   "source": [
    "### Visualize"
   ]
  },
  {
   "cell_type": "code",
   "execution_count": 11,
   "id": "8b53ca4b",
   "metadata": {},
   "outputs": [],
   "source": [
    "o3d.visualization.draw_geometries([pcd])"
   ]
  },
  {
   "cell_type": "markdown",
   "id": "b3150e62",
   "metadata": {},
   "source": [
    "### Mesh with Ball-Pivoting Algorithm (BPA)"
   ]
  },
  {
   "cell_type": "code",
   "execution_count": 14,
   "id": "1d2c72ad",
   "metadata": {},
   "outputs": [],
   "source": [
    "# Compute Average Distances\n",
    "distances = pcd.compute_nearest_neighbor_distance()\n",
    "avg_dist = np.mean(distances)\n",
    "radius = 3 * avg_dist\n"
   ]
  },
  {
   "cell_type": "code",
   "execution_count": 15,
   "id": "4e334f1e",
   "metadata": {},
   "outputs": [],
   "source": [
    "# Estimate Normals\n",
    "# Use a neighborhood roughly a few times the average spacing\n",
    "normal_radius = 2.5 * avg_dist\n",
    "pcd.estimate_normals(\n",
    "    search_param=o3d.geometry.KDTreeSearchParamHybrid(\n",
    "        radius=normal_radius, max_nn=30\n",
    "    )\n",
    ")"
   ]
  },
  {
   "cell_type": "code",
   "execution_count": 16,
   "id": "d527f662",
   "metadata": {},
   "outputs": [],
   "source": [
    "# Orient normals consistently to avoid random flips\n",
    "pcd.orient_normals_consistent_tangent_plane(k=24)"
   ]
  },
  {
   "cell_type": "code",
   "execution_count": 17,
   "id": "777ba0ce",
   "metadata": {},
   "outputs": [],
   "source": [
    "# Ball Pivoting \n",
    "# Choose a set of radii around the point spacing\n",
    "bpa_base = 3.0 * avg_dist\n",
    "radii = o3d.utility.DoubleVector([bpa_base, 2*bpa_base, 4*bpa_base])\n",
    "\n",
    "bpa_mesh = o3d.geometry.TriangleMesh.create_from_point_cloud_ball_pivoting(\n",
    "    pcd, radii\n",
    ")"
   ]
  },
  {
   "cell_type": "code",
   "execution_count": 18,
   "id": "d8d6f974",
   "metadata": {},
   "outputs": [
    {
     "data": {
      "text/plain": [
       "TriangleMesh with 5100 points and 7024 triangles."
      ]
     },
     "execution_count": 18,
     "metadata": {},
     "output_type": "execute_result"
    }
   ],
   "source": [
    "# Post process\n",
    "bpa_mesh.remove_degenerate_triangles()\n",
    "bpa_mesh.remove_duplicated_triangles()\n",
    "bpa_mesh.remove_duplicated_vertices()\n",
    "bpa_mesh.remove_non_manifold_edges()\n",
    "bpa_mesh.compute_vertex_normals()"
   ]
  },
  {
   "cell_type": "code",
   "execution_count": 19,
   "id": "6aae83e2",
   "metadata": {},
   "outputs": [],
   "source": [
    "# Visualize\n",
    "o3d.visualization.draw_geometries(\n",
    "    [pcd, bpa_mesh],\n",
    "    window_name=\"Ball Pivoting Surface Reconstruction\",\n",
    "    width=1280,\n",
    "    height=720,\n",
    "    mesh_show_back_face=True  # makes the mesh visible from both sides\n",
    ")"
   ]
  },
  {
   "cell_type": "markdown",
   "id": "8b89f079",
   "metadata": {},
   "source": [
    "### Mesh with Poisson Reconstruction"
   ]
  },
  {
   "cell_type": "code",
   "execution_count": 20,
   "id": "d298918b",
   "metadata": {},
   "outputs": [],
   "source": [
    "# Estimate & orient normals (Poisson also requires normals)\n",
    "# Use a neighborhood scaled to your data\n",
    "dists = pcd.compute_nearest_neighbor_distance()\n",
    "avg = float(np.mean(dists))\n",
    "search_radius = 2.5 * avg if np.isfinite(avg) and avg > 0 else 0.02  # fallback\n",
    "\n",
    "pcd.estimate_normals(\n",
    "    search_param=o3d.geometry.KDTreeSearchParamHybrid(radius=search_radius, max_nn=30)\n",
    ")\n",
    "pcd.orient_normals_consistent_tangent_plane(k=24)"
   ]
  },
  {
   "cell_type": "code",
   "execution_count": 26,
   "id": "cfd854d3",
   "metadata": {},
   "outputs": [],
   "source": [
    "# Poisson reconstruction\n",
    "# depth controls octree resolution (higher = more detail, slower)\n",
    "mesh, densities = o3d.geometry.TriangleMesh.create_from_point_cloud_poisson(\n",
    "    pcd, depth=9, scale=1.1, linear_fit=True\n",
    ")"
   ]
  },
  {
   "cell_type": "code",
   "execution_count": 27,
   "id": "c2ca5278",
   "metadata": {},
   "outputs": [],
   "source": [
    "# Trim low-density vertices to reduce spurious surfaces\n",
    "densities = np.asarray(densities)\n",
    "# Keep the densest 98% (tune this: 0.98 keeps more, 0.95 trims more)\n",
    "density_thresh = np.quantile(densities, 0.02)\n",
    "to_remove = densities < density_thresh\n",
    "\n",
    "# Sanity check lengths match BEFORE removing\n",
    "assert len(to_remove) == np.asarray(mesh.vertices).shape[0], \\\n",
    "    f\"Mask {len(to_remove)} vs verts {np.asarray(mesh.vertices).shape[0]} mismatch\"\n",
    "\n",
    "mesh.remove_vertices_by_mask(to_remove)"
   ]
  },
  {
   "cell_type": "code",
   "execution_count": 28,
   "id": "925fd0cd",
   "metadata": {},
   "outputs": [],
   "source": [
    "# Crop to remove far-away artifacts\n",
    "bbox = pcd.get_axis_aligned_bounding_box()\n",
    "mesh = mesh.crop(bbox)"
   ]
  },
  {
   "cell_type": "code",
   "execution_count": 29,
   "id": "6d3792d0",
   "metadata": {},
   "outputs": [
    {
     "data": {
      "text/plain": [
       "TriangleMesh with 19353 points and 38431 triangles."
      ]
     },
     "execution_count": 29,
     "metadata": {},
     "output_type": "execute_result"
    }
   ],
   "source": [
    "# Clean up & compute vertex normals for nice shading\n",
    "mesh.remove_degenerate_triangles()\n",
    "mesh.remove_duplicated_triangles()\n",
    "mesh.remove_duplicated_vertices()\n",
    "mesh.remove_non_manifold_edges()\n",
    "mesh.compute_vertex_normals()"
   ]
  },
  {
   "cell_type": "code",
   "execution_count": 30,
   "id": "157e74a8",
   "metadata": {},
   "outputs": [],
   "source": [
    "# Visualize\n",
    "# Paint mesh and point cloud different colors for contrast\n",
    "if pcd.has_colors():\n",
    "    # keep original pcd colors\n",
    "    pass\n",
    "else:\n",
    "    pcd.paint_uniform_color([0.1, 0.6, 1.0])  # cyan-ish\n",
    "\n",
    "mesh.paint_uniform_color([0.8, 0.8, 0.8])  # light gray\n",
    "\n",
    "o3d.visualization.draw_geometries(\n",
    "    [pcd, mesh],\n",
    "    window_name=\"Poisson Reconstruction (Point Cloud + Mesh)\",\n",
    "    width=1280,\n",
    "    height=720,\n",
    "    mesh_show_back_face=True\n",
    ")"
   ]
  }
 ],
 "metadata": {
  "kernelspec": {
   "display_name": ".venv",
   "language": "python",
   "name": "python3"
  },
  "language_info": {
   "codemirror_mode": {
    "name": "ipython",
    "version": 3
   },
   "file_extension": ".py",
   "mimetype": "text/x-python",
   "name": "python",
   "nbconvert_exporter": "python",
   "pygments_lexer": "ipython3",
   "version": "3.12.7"
  }
 },
 "nbformat": 4,
 "nbformat_minor": 5
}
