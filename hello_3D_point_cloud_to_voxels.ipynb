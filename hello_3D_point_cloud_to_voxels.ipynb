{
 "cells": [
  {
   "cell_type": "markdown",
   "id": "f3fa2fb9",
   "metadata": {},
   "source": [
    "# Hello 3D point cloud to Voxels"
   ]
  },
  {
   "cell_type": "code",
   "execution_count": 1,
   "id": "579d7bb4",
   "metadata": {},
   "outputs": [
    {
     "name": "stdout",
     "output_type": "stream",
     "text": [
      "Jupyter environment detected. Enabling Open3D WebVisualizer.\n",
      "[Open3D INFO] WebRTC GUI backend enabled.\n",
      "[Open3D INFO] WebRTCWindowSystem: HTTP handshake server disabled.\n"
     ]
    }
   ],
   "source": [
    "import laspy as lp\n",
    "import numpy as np\n",
    "import open3d as o3d"
   ]
  },
  {
   "cell_type": "markdown",
   "id": "c82daab5",
   "metadata": {},
   "source": [
    "### Load Point Cloud"
   ]
  },
  {
   "cell_type": "code",
   "execution_count": 2,
   "id": "dfdbbfcd",
   "metadata": {},
   "outputs": [
    {
     "name": "stdout",
     "output_type": "stream",
     "text": [
      "Shape of numpy array:  (5100, 6)\n"
     ]
    }
   ],
   "source": [
    "file_path = \"point_clouds_synthetic/duck_rainbow.xyzrgb\"\n",
    "\n",
    "pc = np.loadtxt(file_path)\n",
    "print(\"Shape of numpy array: \", pc.shape)"
   ]
  },
  {
   "cell_type": "code",
   "execution_count": 3,
   "id": "b7e1125d",
   "metadata": {},
   "outputs": [],
   "source": [
    "# Transform to Open3D point cloud\n",
    "pcd = o3d.geometry.PointCloud()\n",
    "pcd.points = o3d.utility.Vector3dVector(pc[:,:3]) # XYZ\n",
    "pcd.colors = o3d.utility.Vector3dVector(pc[:,3:6]/255) # RGB"
   ]
  },
  {
   "cell_type": "markdown",
   "id": "16d7aa16",
   "metadata": {},
   "source": [
    "### Create Voxel Grid"
   ]
  },
  {
   "cell_type": "code",
   "execution_count": 15,
   "id": "9fdb3240",
   "metadata": {},
   "outputs": [],
   "source": [
    "VOXEL_SIZE=0.03 # in same units as point cloud (e.g. meters)\n",
    "v_size=round(max(pcd.get_max_bound()-pcd.get_min_bound())*VOXEL_SIZE,4)\n",
    "voxel_grid=o3d.geometry.VoxelGrid.create_from_point_cloud(pcd,voxel_size=v_size)"
   ]
  },
  {
   "cell_type": "code",
   "execution_count": 16,
   "id": "a8e247ca",
   "metadata": {},
   "outputs": [],
   "source": [
    "voxel_grid=o3d.geometry.VoxelGrid.create_from_point_cloud(pcd,voxel_size=v_size)"
   ]
  },
  {
   "cell_type": "code",
   "execution_count": 17,
   "id": "b5c00eeb",
   "metadata": {},
   "outputs": [],
   "source": [
    "o3d.visualization.draw_geometries([voxel_grid])"
   ]
  },
  {
   "cell_type": "markdown",
   "id": "4fdb99d1",
   "metadata": {},
   "source": [
    "### Generate 3D Mesh"
   ]
  },
  {
   "cell_type": "code",
   "execution_count": 18,
   "id": "4f02be07",
   "metadata": {},
   "outputs": [],
   "source": [
    "# Get voxel grid info\n",
    "voxels=voxel_grid.get_voxels()\n",
    "\n",
    "# Create empty mesh\n",
    "vox_mesh=o3d.geometry.TriangleMesh()\n",
    "\n",
    "for v in voxels:\n",
    "   cube=o3d.geometry.TriangleMesh.create_box(width=1, height=1,\n",
    "   depth=1)\n",
    "   cube.paint_uniform_color(v.color)\n",
    "   cube.translate(v.grid_index, relative=False)\n",
    "   vox_mesh+=cube"
   ]
  }
 ],
 "metadata": {
  "kernelspec": {
   "display_name": ".venv",
   "language": "python",
   "name": "python3"
  },
  "language_info": {
   "codemirror_mode": {
    "name": "ipython",
    "version": 3
   },
   "file_extension": ".py",
   "mimetype": "text/x-python",
   "name": "python",
   "nbconvert_exporter": "python",
   "pygments_lexer": "ipython3",
   "version": "3.12.7"
  }
 },
 "nbformat": 4,
 "nbformat_minor": 5
}
