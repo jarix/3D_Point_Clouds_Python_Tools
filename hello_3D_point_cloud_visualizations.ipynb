{
 "cells": [
  {
   "cell_type": "markdown",
   "id": "d0f8aea9",
   "metadata": {},
   "source": [
    "# Hello 3D Point Cloud Visalization"
   ]
  },
  {
   "cell_type": "code",
   "execution_count": 1,
   "id": "133914f2",
   "metadata": {},
   "outputs": [
    {
     "name": "stdout",
     "output_type": "stream",
     "text": [
      "Jupyter environment detected. Enabling Open3D WebVisualizer.\n",
      "[Open3D INFO] WebRTC GUI backend enabled.\n",
      "[Open3D INFO] WebRTCWindowSystem: HTTP handshake server disabled.\n"
     ]
    }
   ],
   "source": [
    "# Prerequisites and Dependencies\n",
    "import numpy as np\n",
    "import laspy as lp\n",
    "import open3d as o3d\n"
   ]
  },
  {
   "cell_type": "markdown",
   "id": "7cc4c061",
   "metadata": {},
   "source": [
    "### Load Large Las File (not in the GitHub Repo)"
   ]
  },
  {
   "cell_type": "code",
   "execution_count": 2,
   "id": "314d5bc4",
   "metadata": {},
   "outputs": [
    {
     "name": "stdout",
     "output_type": "stream",
     "text": [
      "Points shape:  (20152365, 3)\n"
     ]
    }
   ],
   "source": [
    "pc = lp.read(\"point_clouds_large/2020_Drone_M.las\")\n",
    "points = np.vstack((pc.x, pc.y, pc.z)).transpose()\n",
    "colors = np.vstack((pc.red, pc.green, pc.blue)).transpose()\n",
    "print(\"Points shape: \", points.shape)\n"
   ]
  },
  {
   "cell_type": "markdown",
   "id": "a476fa61",
   "metadata": {},
   "source": [
    "### Preprocessing"
   ]
  },
  {
   "cell_type": "code",
   "execution_count": 3,
   "id": "d7c9a661",
   "metadata": {},
   "outputs": [
    {
     "name": "stdout",
     "output_type": "stream",
     "text": [
      "Decimated Points shape:  (2015237, 3)\n"
     ]
    }
   ],
   "source": [
    "# Decimate to run faster\n",
    "factor=10\n",
    "decimated_points = points[::factor]\n",
    "decimated_colors = colors[::factor]\n",
    "\n",
    "print(\"Decimated Points shape: \", decimated_points.shape)"
   ]
  },
  {
   "cell_type": "markdown",
   "id": "fe46a6aa",
   "metadata": {},
   "source": [
    "## Visualize with Open3D"
   ]
  },
  {
   "cell_type": "code",
   "execution_count": 4,
   "id": "05feef5d",
   "metadata": {},
   "outputs": [],
   "source": [
    "# Create Open3D PointCloud\n",
    "pcd = o3d.geometry.PointCloud()\n",
    "pcd.points = o3d.utility.Vector3dVector(decimated_points)\n",
    "pcd.colors = o3d.utility.Vector3dVector(decimated_colors/65535.0)\n"
   ]
  },
  {
   "cell_type": "code",
   "execution_count": 5,
   "id": "8ba77308",
   "metadata": {},
   "outputs": [],
   "source": [
    "# Estimate Normals\n",
    "# radius determines neighborhood size; adjust based on your point density\n",
    "pcd.estimate_normals(\n",
    "    search_param=o3d.geometry.KDTreeSearchParamHybrid(\n",
    "        radius=1.0,  # in same units as your point cloud (meters typically)\n",
    "        max_nn=30\n",
    "    )\n",
    ")"
   ]
  },
  {
   "cell_type": "code",
   "execution_count": null,
   "id": "37f66ae8",
   "metadata": {},
   "outputs": [],
   "source": [
    "# Orient normals consistently (useful for meshes later) (optional)\n",
    "pcd.orient_normals_consistent_tangent_plane(50)"
   ]
  },
  {
   "cell_type": "code",
   "execution_count": 6,
   "id": "b819406f",
   "metadata": {},
   "outputs": [],
   "source": [
    "# Visualize\n",
    "o3d.visualization.draw_geometries([pcd], point_show_normal=True)"
   ]
  },
  {
   "cell_type": "code",
   "execution_count": 7,
   "id": "0e52be22",
   "metadata": {},
   "outputs": [],
   "source": [
    "# Visualize\n",
    "o3d.visualization.draw_geometries([pcd], point_show_normal=False)"
   ]
  }
 ],
 "metadata": {
  "kernelspec": {
   "display_name": ".venv",
   "language": "python",
   "name": "python3"
  },
  "language_info": {
   "codemirror_mode": {
    "name": "ipython",
    "version": 3
   },
   "file_extension": ".py",
   "mimetype": "text/x-python",
   "name": "python",
   "nbconvert_exporter": "python",
   "pygments_lexer": "ipython3",
   "version": "3.12.7"
  }
 },
 "nbformat": 4,
 "nbformat_minor": 5
}
