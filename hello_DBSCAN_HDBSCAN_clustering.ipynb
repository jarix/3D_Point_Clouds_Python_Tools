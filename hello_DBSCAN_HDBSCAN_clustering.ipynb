{
 "cells": [
  {
   "cell_type": "markdown",
   "id": "7e2fd214",
   "metadata": {},
   "source": [
    "# Hello DBSCAN and HDBSCAN Clustering"
   ]
  },
  {
   "cell_type": "code",
   "execution_count": 1,
   "id": "88027aba",
   "metadata": {},
   "outputs": [
    {
     "name": "stdout",
     "output_type": "stream",
     "text": [
      "Jupyter environment detected. Enabling Open3D WebVisualizer.\n",
      "[Open3D INFO] WebRTC GUI backend enabled.\n",
      "[Open3D INFO] WebRTCWindowSystem: HTTP handshake server disabled.\n"
     ]
    }
   ],
   "source": [
    "# Prerequisites & Dependencies\n",
    "import time\n",
    "import numpy as np\n",
    "import matplotlib.pyplot as plt\n",
    "import open3d as o3d\n",
    "import hdbscan as hdb\n",
    "\n",
    "# Needed libraries\n",
    "# pip install open3d\n",
    "# pip install hdbscan"
   ]
  },
  {
   "cell_type": "markdown",
   "id": "e7c82360",
   "metadata": {},
   "source": [
    "### Load Point Cloud"
   ]
  },
  {
   "cell_type": "code",
   "execution_count": 2,
   "id": "32ee2ccb",
   "metadata": {},
   "outputs": [],
   "source": [
    "pc_inliers = o3d.io.read_point_cloud(\"point_clouds_public/lidar_ground_inliers.ply\", format='ply')\n",
    "pc_outliers = o3d.io.read_point_cloud(\"point_clouds_public/lidar_ground_outliers.ply\", format='ply')"
   ]
  },
  {
   "cell_type": "markdown",
   "id": "b162baf2",
   "metadata": {},
   "source": [
    "### DBSCAN Clustering using Open3d"
   ]
  },
  {
   "cell_type": "code",
   "execution_count": 3,
   "id": "a0cdd361",
   "metadata": {},
   "outputs": [
    {
     "name": "stdout",
     "output_type": "stream",
     "text": [
      "Number of clusters: 295\n",
      "Clustering took 0.3425 seconds\n"
     ]
    }
   ],
   "source": [
    "epsilon = 0.5\n",
    "min_points = 7\n",
    "\n",
    "t_start = time.time()\n",
    "labels = np.array(pc_outliers.cluster_dbscan(eps=epsilon, min_points=min_points))\n",
    "t_end = time.time()\n",
    "\n",
    "nr_clusters = labels.max()\n",
    "print(f\"Number of clusters: {nr_clusters}\")\n",
    "print(f\"Clustering took {t_end-t_start:.4f} seconds\")"
   ]
  },
  {
   "cell_type": "markdown",
   "id": "0f3fa04b",
   "metadata": {},
   "source": [
    "### Visualize"
   ]
  },
  {
   "cell_type": "code",
   "execution_count": 4,
   "id": "6288ae27",
   "metadata": {},
   "outputs": [],
   "source": [
    "colors = plt.get_cmap(\"tab20\")(labels / (nr_clusters if nr_clusters > 0 else 1))\n",
    "colors[labels < 0] = 0\n",
    "pc_outliers.colors = o3d.utility.Vector3dVector(colors[:, :3])\n",
    "\n",
    "o3d.visualization.draw_geometries([pc_inliers, pc_outliers], window_name=\"DBSCAN Clustering\" )"
   ]
  },
  {
   "cell_type": "markdown",
   "id": "ea810a41",
   "metadata": {},
   "source": [
    "### Export"
   ]
  },
  {
   "cell_type": "code",
   "execution_count": 5,
   "id": "92242e91",
   "metadata": {},
   "outputs": [],
   "source": [
    "# Export as xyz file from Numpy\n",
    "np.savetxt(\"outputs/lidar_dbscan_clusters.xyz\", \n",
    "           np.hstack((np.asarray(pc_outliers.points), (labels+1).reshape(-1, 1))),\n",
    "           delimiter=';', fmt='%1.9f')"
   ]
  },
  {
   "cell_type": "markdown",
   "id": "ee47ef03",
   "metadata": {},
   "source": [
    "### Parameter Tuning"
   ]
  },
  {
   "cell_type": "code",
   "execution_count": 6,
   "id": "94b6864a",
   "metadata": {},
   "outputs": [
    {
     "name": "stdout",
     "output_type": "stream",
     "text": [
      "(0.1, 3): (47894, 0.05539989471435547, np.int32(1491))\n",
      "(0.2, 3): (47894, 0.04614901542663574, np.int32(1491))\n",
      "(0.3, 3): (47894, 0.0601048469543457, np.int32(1491))\n",
      "(0.4, 3): (47894, 0.26137256622314453, np.int32(623))\n",
      "(0.5, 3): (47894, 0.05063819885253906, np.int32(1491))\n",
      "(0.6, 3): (47894, 0.04944729804992676, np.int32(1491))\n",
      "(0.7, 3): (47894, 0.049839019775390625, np.int32(1491))\n",
      "(0.8, 3): (47894, 0.03815865516662598, np.int32(1491))\n",
      "(0.9, 3): (47894, 0.06108212471008301, np.int32(1491))\n",
      "(0.4, 1): (47894, 0.23796844482421875, np.int32(1549))\n",
      "(0.4, 2): (47894, 0.2680623531341553, np.int32(885))\n",
      "(0.4, 4): (47894, 0.25456690788269043, np.int32(481))\n",
      "(0.4, 5): (47894, 0.24903202056884766, np.int32(417))\n",
      "(0.4, 6): (47894, 0.2651710510253906, np.int32(354))\n",
      "(0.4, 7): (47894, 0.2515683174133301, np.int32(306))\n",
      "(0.4, 8): (47894, 0.2501220703125, np.int32(274))\n",
      "(0.4, 9): (47894, 0.2497878074645996, np.int32(241))\n"
     ]
    }
   ],
   "source": [
    "perfs = {}\n",
    "\n",
    "for i in range(1, 10, 1):\n",
    "    t_start = time.time()\n",
    "    labels = np.array(pc_outliers.cluster_dbscan(eps=1/10, min_points=3))\n",
    "    t_end = time.time()\n",
    "    nr_clusters = labels.max()\n",
    "    perfs[i/10,3] = len(pc_outliers.points), t_end-t_start, nr_clusters + 1\n",
    "\n",
    "for i in range(1, 10, 1):\n",
    "    t_start = time.time()\n",
    "    labels = np.array(pc_outliers.cluster_dbscan(eps=0.4, min_points=i))\n",
    "    t_end = time.time()\n",
    "    nr_clusters = labels.max()\n",
    "    perfs[0.4,i] = len(pc_outliers.points), t_end-t_start, nr_clusters + 1\n",
    "\n",
    "for key, value in perfs.items():\n",
    "    print(f\"{key}: {value}\")"
   ]
  },
  {
   "cell_type": "markdown",
   "id": "d0245f46",
   "metadata": {},
   "source": [
    "### Using HDBSCAN\n",
    "\n",
    "HDBSCAN does not need epsilon to be set by user"
   ]
  },
  {
   "cell_type": "code",
   "execution_count": 7,
   "id": "187054e5",
   "metadata": {},
   "outputs": [
    {
     "name": "stderr",
     "output_type": "stream",
     "text": [
      "d:\\MyGithub\\3D_Point_Clouds_Python_Tools\\.venv\\Lib\\site-packages\\sklearn\\utils\\deprecation.py:132: FutureWarning: 'force_all_finite' was renamed to 'ensure_all_finite' in 1.6 and will be removed in 1.8.\n",
      "  warnings.warn(\n",
      "d:\\MyGithub\\3D_Point_Clouds_Python_Tools\\.venv\\Lib\\site-packages\\sklearn\\utils\\deprecation.py:132: FutureWarning: 'force_all_finite' was renamed to 'ensure_all_finite' in 1.6 and will be removed in 1.8.\n",
      "  warnings.warn(\n"
     ]
    },
    {
     "name": "stdout",
     "output_type": "stream",
     "text": [
      "Clustering took 3.3231 seconds\n",
      "Number of clusters: 389\n"
     ]
    }
   ],
   "source": [
    "clusters = hdb.HDBSCAN(min_cluster_size = 7, gen_min_span_tree=True)\n",
    "t_start = time.time()\n",
    "clusters.fit(pc_outliers.points)\n",
    "t_end = time.time()\n",
    "print(f\"Clustering took {t_end-t_start:.4f} seconds\")\n",
    "\n",
    "labels = clusters.labels_\n",
    "nr_clusters = labels.max()\n",
    "print(f\"Number of clusters: {nr_clusters}\")\n"
   ]
  },
  {
   "cell_type": "markdown",
   "id": "dce38030",
   "metadata": {},
   "source": [
    "### Visualize HDBSCAN"
   ]
  },
  {
   "cell_type": "code",
   "execution_count": 8,
   "id": "050bc188",
   "metadata": {},
   "outputs": [],
   "source": [
    "colors = plt.get_cmap(\"tab20\")(labels / (nr_clusters if nr_clusters > 0 else 1))\n",
    "colors[labels < 0] = 0\n",
    "pc_outliers.colors = o3d.utility.Vector3dVector(colors[:, :3])\n",
    "\n",
    "o3d.visualization.draw_geometries([pc_inliers, pc_outliers], window_name=\"DBSCAN Clustering\" )"
   ]
  }
 ],
 "metadata": {
  "kernelspec": {
   "display_name": ".venv",
   "language": "python",
   "name": "python3"
  },
  "language_info": {
   "codemirror_mode": {
    "name": "ipython",
    "version": 3
   },
   "file_extension": ".py",
   "mimetype": "text/x-python",
   "name": "python",
   "nbconvert_exporter": "python",
   "pygments_lexer": "ipython3",
   "version": "3.12.7"
  }
 },
 "nbformat": 4,
 "nbformat_minor": 5
}
