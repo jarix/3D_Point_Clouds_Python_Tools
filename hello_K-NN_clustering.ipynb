{
 "cells": [
  {
   "cell_type": "markdown",
   "id": "7e2fd214",
   "metadata": {},
   "source": [
    "# Hello K-NN Clustering"
   ]
  },
  {
   "cell_type": "code",
   "execution_count": 2,
   "id": "88027aba",
   "metadata": {},
   "outputs": [
    {
     "name": "stdout",
     "output_type": "stream",
     "text": [
      "Open3d version:  0.19.0\n"
     ]
    }
   ],
   "source": [
    "# Prerequisites & Dependencies\n",
    "import time\n",
    "import numpy as np\n",
    "import matplotlib.pyplot as plt\n",
    "import open3d as o3d\n",
    "from sklearn.neighbors import KDTree\n",
    "\n",
    "print(\"Open3d version: \", o3d.__version__)\n",
    "\n",
    "# Needed libraries:\n",
    "# pip install open3d\n",
    "# pip install scikit-learn"
   ]
  },
  {
   "cell_type": "markdown",
   "id": "e7c82360",
   "metadata": {},
   "source": [
    "### Load Point Cloud"
   ]
  },
  {
   "cell_type": "code",
   "execution_count": 3,
   "id": "32ee2ccb",
   "metadata": {},
   "outputs": [],
   "source": [
    "pc = o3d.io.read_point_cloud(\"point_clouds_public/lidar_ground_outliers.ply\", format='ply')"
   ]
  },
  {
   "cell_type": "markdown",
   "id": "72bdba8f",
   "metadata": {},
   "source": [
    "### Visualize"
   ]
  },
  {
   "cell_type": "code",
   "execution_count": 4,
   "id": "538de0f5",
   "metadata": {},
   "outputs": [],
   "source": [
    "o3d.visualization.draw_geometries([pc])"
   ]
  },
  {
   "cell_type": "markdown",
   "id": "590c8ddf",
   "metadata": {},
   "source": [
    "### Downsample"
   ]
  },
  {
   "cell_type": "code",
   "execution_count": 5,
   "id": "499d31f5",
   "metadata": {},
   "outputs": [],
   "source": [
    "pc = pc.voxel_down_sample(voxel_size=0.02)\n",
    "# Load to NumPy Array\n",
    "points = np.asarray(pc.points)\n",
    "colors = np.asarray(pc.colors)"
   ]
  },
  {
   "cell_type": "markdown",
   "id": "b162baf2",
   "metadata": {},
   "source": [
    "### Build a KD-tree with Scikit-learn"
   ]
  },
  {
   "cell_type": "code",
   "execution_count": 6,
   "id": "85945b7e",
   "metadata": {},
   "outputs": [],
   "source": [
    "tree = KDTree(points, leaf_size=2)"
   ]
  },
  {
   "cell_type": "code",
   "execution_count": 7,
   "id": "bc35ec8b",
   "metadata": {},
   "outputs": [
    {
     "data": {
      "text/plain": [
       "array([array([23387, 15882, 16697, ..., 21335,  1973, 26322], shape=(4184,))],\n",
       "      dtype=object)"
      ]
     },
     "execution_count": 7,
     "metadata": {},
     "output_type": "execute_result"
    }
   ],
   "source": [
    "# KDTree query example\n",
    "tree.query_radius(points[0].reshape(1, -1), r=3)"
   ]
  }
 ],
 "metadata": {
  "kernelspec": {
   "display_name": ".venv",
   "language": "python",
   "name": "python3"
  },
  "language_info": {
   "codemirror_mode": {
    "name": "ipython",
    "version": 3
   },
   "file_extension": ".py",
   "mimetype": "text/x-python",
   "name": "python",
   "nbconvert_exporter": "python",
   "pygments_lexer": "ipython3",
   "version": "3.12.7"
  }
 },
 "nbformat": 4,
 "nbformat_minor": 5
}
