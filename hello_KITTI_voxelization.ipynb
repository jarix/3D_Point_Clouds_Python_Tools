{
 "cells": [
  {
   "cell_type": "markdown",
   "id": "4105161f",
   "metadata": {},
   "source": [
    "# Hello KITTI voxelization\n",
    "\n",
    "Voxelize a KITTI point cloud"
   ]
  },
  {
   "cell_type": "code",
   "execution_count": 1,
   "id": "eedecf0c",
   "metadata": {},
   "outputs": [
    {
     "name": "stdout",
     "output_type": "stream",
     "text": [
      "Jupyter environment detected. Enabling Open3D WebVisualizer.\n",
      "[Open3D INFO] WebRTC GUI backend enabled.\n",
      "[Open3D INFO] WebRTCWindowSystem: HTTP handshake server disabled.\n"
     ]
    }
   ],
   "source": [
    "# Prerequisites \n",
    "import open3d as o3d\n",
    "import numpy as np\n"
   ]
  },
  {
   "cell_type": "markdown",
   "id": "6e1842e9",
   "metadata": {},
   "source": [
    "### Load a Point Cloud and visualize"
   ]
  },
  {
   "cell_type": "code",
   "execution_count": 2,
   "id": "176d3654",
   "metadata": {},
   "outputs": [],
   "source": [
    "pc = o3d.io.read_point_cloud(\"point_clouds_public/lidar.ply\")\n",
    "\n",
    "o3d.visualization.draw_geometries([pc])"
   ]
  },
  {
   "cell_type": "markdown",
   "id": "a110f922",
   "metadata": {},
   "source": [
    "Get the View information from Open3D with Ctrl-Alt-C (Windows, Linux) or Ctrl-Cmd-C (Mac)\n",
    "\n",
    "```\n",
    "{\n",
    "\t\"class_name\" : \"ViewTrajectory\",\n",
    "\t\"interval\" : 29,\n",
    "\t\"is_loop\" : false,\n",
    "\t\"trajectory\" : \n",
    "\t[\n",
    "\t\t{\n",
    "\t\t\t\"boundingbox_max\" : [ 67.833000183105469, 77.691001892089844, 2.9110000133514404 ],\n",
    "\t\t\t\"boundingbox_min\" : [ -65.306999206542969, -79.863998413085938, -7.6710000038146973 ],\n",
    "\t\t\t\"field_of_view\" : 60.0,\n",
    "\t\t\t\"front\" : [ -0.3288554445064531, -0.9285337759008383, 0.17227630025570834 ],\n",
    "\t\t\t\"lookat\" : [ 4.4350376751119169, 0.054145148142283703, -2.2027749225426567 ],\n",
    "\t\t\t\"up\" : [ 0.04225945395191838, 0.16777105126752093, 0.98491980024176418 ],\n",
    "\t\t\t\"zoom\" : 0.080000000000000002\n",
    "\t\t}\n",
    "\t],\n",
    "\t\"version_major\" : 1,\n",
    "\t\"version_minor\" : 0\n",
    "}\n",
    "```\n"
   ]
  },
  {
   "cell_type": "code",
   "execution_count": 3,
   "id": "8f43bc21",
   "metadata": {},
   "outputs": [],
   "source": [
    "# Store visualization settings into variables\n",
    "front = [ -0.3288554445064531, -0.9285337759008383, 0.17227630025570834 ]\n",
    "lookat = [ 4.4350376751119169, 0.054145148142283703, -2.2027749225426567 ]\n",
    "up = [ 0.04225945395191838, 0.16777105126752093, 0.98491980024176418 ]\n",
    "zoom = 0.080000000000000002"
   ]
  },
  {
   "cell_type": "code",
   "execution_count": 4,
   "id": "56a8dbf4",
   "metadata": {},
   "outputs": [],
   "source": [
    "# Visualize using the saved parameters\n",
    "o3d.visualization.draw_geometries([pc], front = front, lookat = lookat, up = up, zoom = zoom)"
   ]
  },
  {
   "cell_type": "markdown",
   "id": "3cc3846d",
   "metadata": {},
   "source": [
    "### Downsampling with Open3D Voxel Grid"
   ]
  },
  {
   "cell_type": "code",
   "execution_count": 5,
   "id": "3fd82e6c",
   "metadata": {},
   "outputs": [],
   "source": [
    "pc_downsampled = pc.voxel_down_sample(voxel_size=0.2)"
   ]
  },
  {
   "cell_type": "markdown",
   "id": "9258e6bf",
   "metadata": {},
   "source": [
    "### Check before and after sizes"
   ]
  },
  {
   "cell_type": "code",
   "execution_count": 17,
   "id": "a3e58779",
   "metadata": {},
   "outputs": [
    {
     "name": "stdout",
     "output_type": "stream",
     "text": [
      "Original number of points:  123684\n",
      "Downsampled number of points:  34892\n"
     ]
    }
   ],
   "source": [
    "print(\"Original number of points: \", len(pc.points))\n",
    "print(\"Downsampled number of points: \", len(pc_downsampled.points))"
   ]
  },
  {
   "cell_type": "code",
   "execution_count": 6,
   "id": "6db09b6e",
   "metadata": {},
   "outputs": [],
   "source": [
    "o3d.visualization.draw_geometries([pc_downsampled], front = front, lookat = lookat, up = up, zoom = zoom)"
   ]
  },
  {
   "cell_type": "markdown",
   "id": "4c86c153",
   "metadata": {},
   "source": [
    "### Export downsampled"
   ]
  },
  {
   "cell_type": "code",
   "execution_count": 7,
   "id": "1edcd080",
   "metadata": {},
   "outputs": [
    {
     "data": {
      "text/plain": [
       "True"
      ]
     },
     "execution_count": 7,
     "metadata": {},
     "output_type": "execute_result"
    }
   ],
   "source": [
    "o3d.io.write_point_cloud(\"outputs/lidar_downsampled.ply\", pc_downsampled, write_ascii=False, compressed=False, print_progress=False)\n",
    "o3d.io.write_point_cloud(\"outputs/lidar_downsampled2.ply\", pc_downsampled, write_ascii=True)"
   ]
  }
 ],
 "metadata": {
  "kernelspec": {
   "display_name": ".venv",
   "language": "python",
   "name": "python3"
  },
  "language_info": {
   "codemirror_mode": {
    "name": "ipython",
    "version": 3
   },
   "file_extension": ".py",
   "mimetype": "text/x-python",
   "name": "python",
   "nbconvert_exporter": "python",
   "pygments_lexer": "ipython3",
   "version": "3.12.7"
  }
 },
 "nbformat": 4,
 "nbformat_minor": 5
}
