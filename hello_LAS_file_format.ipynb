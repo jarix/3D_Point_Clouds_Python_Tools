{
 "cells": [
  {
   "cell_type": "markdown",
   "metadata": {},
   "source": [
    "# Hello LAS file format"
   ]
  },
  {
   "cell_type": "markdown",
   "metadata": {},
   "source": [
    "## Prerequisites"
   ]
  },
  {
   "cell_type": "code",
   "execution_count": 1,
   "metadata": {},
   "outputs": [
    {
     "name": "stdout",
     "output_type": "stream",
     "text": [
      "Python version:  3.9.13 (tags/v3.9.13:6de2ca5, May 17 2022, 16:36:42) [MSC v.1929 64 bit (AMD64)]\n",
      "Laspy version:  2.5.4\n"
     ]
    }
   ],
   "source": [
    "# Prerequisites:\n",
    "import sys\n",
    "import numpy as np\n",
    "import pandas as pd\n",
    "import matplotlib.pyplot as plt\n",
    "%matplotlib inline\n",
    "\n",
    "import laspy\n",
    "\n",
    "print(\"Python version: \", sys.version)\n",
    "print(\"Laspy version: \", laspy.__version__)"
   ]
  },
  {
   "cell_type": "markdown",
   "metadata": {},
   "source": [
    "## Read LAS File\n",
    "\n",
    "Read everything, including header, vlrs, and point records"
   ]
  },
  {
   "cell_type": "code",
   "execution_count": 2,
   "metadata": {},
   "outputs": [
    {
     "name": "stdout",
     "output_type": "stream",
     "text": [
      "Data type of the point cloud is:  <class 'laspy.lasdata.LasData'>\n"
     ]
    }
   ],
   "source": [
    "pc = laspy.read(\"point_clouds\\sample_drive_capture.las\")\n",
    "print(\"Data type of the point cloud is: \", type(pc))"
   ]
  },
  {
   "cell_type": "markdown",
   "metadata": {},
   "source": [
    "## Examine Point Cloud Dimensions"
   ]
  },
  {
   "cell_type": "code",
   "execution_count": 3,
   "metadata": {},
   "outputs": [
    {
     "name": "stdout",
     "output_type": "stream",
     "text": [
      "Header:  <LasHeader(1.2, <PointFormat(3, 92 bytes of extra dims)>)>\n",
      "Point Count:  1020957\n"
     ]
    }
   ],
   "source": [
    "print(\"Header: \", pc.header)\n",
    "print(\"Point Count: \", pc.header.point_count)"
   ]
  },
  {
   "cell_type": "markdown",
   "metadata": {},
   "source": [
    "#### Check point format"
   ]
  },
  {
   "cell_type": "code",
   "execution_count": 31,
   "metadata": {},
   "outputs": [
    {
     "name": "stdout",
     "output_type": "stream",
     "text": [
      "Point format ID:  3\n",
      "Point size: 126 bytes\n"
     ]
    }
   ],
   "source": [
    "point_format = pc.point_format\n",
    "print(\"Point format ID: \", point_format.id)\n",
    "print(f\"Point size: {point_format.size} bytes\")"
   ]
  },
  {
   "cell_type": "markdown",
   "metadata": {},
   "source": [
    "#### Check Dimensions (Attributes)"
   ]
  },
  {
   "cell_type": "code",
   "execution_count": 32,
   "metadata": {},
   "outputs": [
    {
     "name": "stdout",
     "output_type": "stream",
     "text": [
      "Number of dimensions:  54\n",
      "All Dimension names:  ['X', 'Y', 'Z', 'intensity', 'return_number', 'number_of_returns', 'scan_direction_flag', 'edge_of_flight_line', 'classification', 'synthetic', 'key_point', 'withheld', 'scan_angle_rank', 'user_data', 'point_source_id', 'gps_time', 'red', 'green', 'blue', 'ScanChannel', 'ClassFlags', 'Reflectance', 'IsPpsLocked', 'Azimuth', 'EchoRange', 'ElevationHigh', 'PointId', 'ray_id', 'frame_sequence', 'packet_sequence', 'header_reserved_l', 'header_reserved1_l', 'scan_state', 'ray_sequence', 'blockage_indicator', 'line_number', 'roi', 'ray_qualifier', 'ray_reserved1', 'ray_reserved2', 'snr', 'point_type', 'filter_flag_count', 'retro_artifact_debug_bit', 'range_wrap_debug_bit', 'min_range_debug_bit', 'crosstalk_debug_bit', 'low_reflectance_debug_bit', 'packet_data_qualifier', 'scan_channel', 'ptp_time_sec', 'ptp_time_nsec', 'ray_header_ptp_time_nsec', 'ray_header_ptp_time_delts_nsec']\n",
      "----------------------------------\n",
      "Number of standard dimensions:  19\n",
      "Standard dimension names:  ['X', 'Y', 'Z', 'intensity', 'return_number', 'number_of_returns', 'scan_direction_flag', 'edge_of_flight_line', 'classification', 'synthetic', 'key_point', 'withheld', 'scan_angle_rank', 'user_data', 'point_source_id', 'gps_time', 'red', 'green', 'blue']\n",
      "----------------------------------\n",
      "Number of extra dimensions:  35\n",
      "Extra dimension names:  ['ScanChannel', 'ClassFlags', 'Reflectance', 'IsPpsLocked', 'Azimuth', 'EchoRange', 'ElevationHigh', 'PointId', 'ray_id', 'frame_sequence', 'packet_sequence', 'header_reserved_l', 'header_reserved1_l', 'scan_state', 'ray_sequence', 'blockage_indicator', 'line_number', 'roi', 'ray_qualifier', 'ray_reserved1', 'ray_reserved2', 'snr', 'point_type', 'filter_flag_count', 'retro_artifact_debug_bit', 'range_wrap_debug_bit', 'min_range_debug_bit', 'crosstalk_debug_bit', 'low_reflectance_debug_bit', 'packet_data_qualifier', 'scan_channel', 'ptp_time_sec', 'ptp_time_nsec', 'ray_header_ptp_time_nsec', 'ray_header_ptp_time_delts_nsec']\n"
     ]
    }
   ],
   "source": [
    "# Dimension names\n",
    "names = list(pc.point_format.dimension_names)\n",
    "print(\"Number of dimensions: \", len(names))\n",
    "print(\"All Dimension names: \", names)\n",
    "print(\"----------------------------------\")\n",
    "\n",
    "# Standard dimensions\n",
    "standard_dim_names = list(pc.point_format.standard_dimension_names)\n",
    "print(\"Number of standard dimensions: \", len(standard_dim_names))\n",
    "print(\"Standard dimension names: \", standard_dim_names)\n",
    "print(\"----------------------------------\")\n",
    "\n",
    "# Extra dimensions\n",
    "extra_dim_names = list(pc.point_format.extra_dimension_names)\n",
    "print(\"Number of extra dimensions: \", len(extra_dim_names))\n",
    "print(\"Extra dimension names: \", extra_dim_names)"
   ]
  },
  {
   "cell_type": "code",
   "execution_count": 33,
   "metadata": {},
   "outputs": [
    {
     "name": "stdout",
     "output_type": "stream",
     "text": [
      "Type of X data:  <class 'numpy.ndarray'>\n",
      "Number of X points:  1020957\n"
     ]
    }
   ],
   "source": [
    "# Access to points:\n",
    "print(\"Type of X data: \", type(pc[\"X\"]))\n",
    "print(\"Number of X points: \", len(pc[\"X\"]))"
   ]
  },
  {
   "cell_type": "markdown",
   "metadata": {},
   "source": [
    "## Point Format for each point"
   ]
  },
  {
   "cell_type": "code",
   "execution_count": 34,
   "metadata": {},
   "outputs": [
    {
     "name": "stdout",
     "output_type": "stream",
     "text": [
      "Point format:  <PointFormat(3, 92 bytes of extra dims)>\n",
      "Point Format [0] name: X\n",
      "Point Format [0] # of bits: 32\n",
      "Point Format [0] kind: DimensionKind.SignedInteger\n",
      "Point Format [0] min: -2147483648\n",
      "Point Format [0] max: 2147483647\n",
      "Point Format [1] name: Y\n",
      "Point Format [1] # of bits: 32\n",
      "Point Format [1] kind: DimensionKind.SignedInteger\n",
      "Point Format [1] min: -2147483648\n",
      "Point Format [1] max: 2147483647\n",
      "Point Format [2] name: Z\n",
      "Point Format [2] # of bits: 32\n",
      "Point Format [2] kind: DimensionKind.SignedInteger\n",
      "Point Format [2] min: -2147483648\n",
      "Point Format [2] max: 2147483647\n",
      "Point Format [3] name: intensity\n",
      "Point Format [3] # of bits: 16\n",
      "Point Format [3] kind: DimensionKind.UnsignedInteger\n",
      "Point Format [3] min: 0\n",
      "Point Format [3] max: 65535\n",
      "Point Format [4] name: return_number\n",
      "Point Format [4] # of bits: 3\n",
      "Point Format [4] kind: DimensionKind.BitField\n",
      "Point Format [4] min: 0\n",
      "Point Format [4] max: 7\n",
      "Point Format [5] name: number_of_returns\n",
      "Point Format [5] # of bits: 3\n",
      "Point Format [5] kind: DimensionKind.BitField\n",
      "Point Format [5] min: 0\n",
      "Point Format [5] max: 7\n",
      "Point Format [6] name: scan_direction_flag\n",
      "Point Format [6] # of bits: 1\n",
      "Point Format [6] kind: DimensionKind.BitField\n",
      "Point Format [6] min: 0\n",
      "Point Format [6] max: 1\n",
      "Point Format [7] name: edge_of_flight_line\n",
      "Point Format [7] # of bits: 1\n",
      "Point Format [7] kind: DimensionKind.BitField\n",
      "Point Format [7] min: 0\n",
      "Point Format [7] max: 1\n",
      "Point Format [8] name: classification\n",
      "Point Format [8] # of bits: 5\n",
      "Point Format [8] kind: DimensionKind.BitField\n",
      "Point Format [8] min: 0\n",
      "Point Format [8] max: 31\n",
      "Point Format [9] name: synthetic\n",
      "Point Format [9] # of bits: 1\n",
      "Point Format [9] kind: DimensionKind.BitField\n",
      "Point Format [9] min: 0\n",
      "Point Format [9] max: 1\n",
      "Point Format [10] name: key_point\n",
      "Point Format [10] # of bits: 1\n",
      "Point Format [10] kind: DimensionKind.BitField\n",
      "Point Format [10] min: 0\n",
      "Point Format [10] max: 1\n",
      "Point Format [11] name: withheld\n",
      "Point Format [11] # of bits: 1\n",
      "Point Format [11] kind: DimensionKind.BitField\n",
      "Point Format [11] min: 0\n",
      "Point Format [11] max: 1\n",
      "Point Format [12] name: scan_angle_rank\n",
      "Point Format [12] # of bits: 8\n",
      "Point Format [12] kind: DimensionKind.SignedInteger\n",
      "Point Format [12] min: -128\n",
      "Point Format [12] max: 127\n",
      "Point Format [13] name: user_data\n",
      "Point Format [13] # of bits: 8\n",
      "Point Format [13] kind: DimensionKind.UnsignedInteger\n",
      "Point Format [13] min: 0\n",
      "Point Format [13] max: 255\n",
      "Point Format [14] name: point_source_id\n",
      "Point Format [14] # of bits: 16\n",
      "Point Format [14] kind: DimensionKind.UnsignedInteger\n",
      "Point Format [14] min: 0\n",
      "Point Format [14] max: 65535\n",
      "Point Format [15] name: gps_time\n",
      "Point Format [15] # of bits: 64\n",
      "Point Format [15] kind: DimensionKind.FloatingPoint\n",
      "Point Format [15] min: -1.7976931348623157e+308\n",
      "Point Format [15] max: 1.7976931348623157e+308\n",
      "Point Format [16] name: red\n",
      "Point Format [16] # of bits: 16\n",
      "Point Format [16] kind: DimensionKind.UnsignedInteger\n",
      "Point Format [16] min: 0\n",
      "Point Format [16] max: 65535\n",
      "Point Format [17] name: green\n",
      "Point Format [17] # of bits: 16\n",
      "Point Format [17] kind: DimensionKind.UnsignedInteger\n",
      "Point Format [17] min: 0\n",
      "Point Format [17] max: 65535\n",
      "Point Format [18] name: blue\n",
      "Point Format [18] # of bits: 16\n",
      "Point Format [18] kind: DimensionKind.UnsignedInteger\n",
      "Point Format [18] min: 0\n",
      "Point Format [18] max: 65535\n"
     ]
    }
   ],
   "source": [
    "point_fmt = pc.point_format\n",
    "print(\"Point format: \", point_fmt)\n",
    "\n",
    "for i in range(len(list(point_fmt.standard_dimension_names))):\n",
    "    print(f\"Point Format [{i}] name: {point_fmt[i].name}\")\n",
    "    print(f\"Point Format [{i}] # of bits: {point_fmt[i].num_bits}\")\n",
    "    print(f\"Point Format [{i}] kind: {point_fmt[i].kind}\")\n",
    "    print(f\"Point Format [{i}] min: {point_fmt[i].min}\")\n",
    "    print(f\"Point Format [{i}] max: {point_fmt[i].max}\")"
   ]
  },
  {
   "cell_type": "markdown",
   "metadata": {},
   "source": [
    "## Access Variable Length Records (VLRs)"
   ]
  },
  {
   "cell_type": "code",
   "execution_count": 35,
   "metadata": {},
   "outputs": [
    {
     "name": "stdout",
     "output_type": "stream",
     "text": [
      "VLRs:  [<ExtraBytesVlr(extra bytes structs: 35)>]\n"
     ]
    }
   ],
   "source": [
    "print(\"VLRs: \", pc.vlrs)"
   ]
  },
  {
   "cell_type": "markdown",
   "metadata": {},
   "source": [
    "## Manipulating Points"
   ]
  },
  {
   "cell_type": "markdown",
   "metadata": {},
   "source": [
    "#### Check Min and Max Values"
   ]
  },
  {
   "cell_type": "code",
   "execution_count": 36,
   "metadata": {},
   "outputs": [
    {
     "name": "stdout",
     "output_type": "stream",
     "text": [
      "X min: 0.0 X max: 234.19\n",
      "Y min: -127.99000000000001 Y max: 117.35000000000001\n",
      "Z min: -29.89 Z max: 31.13\n",
      "Intensity min: 0 Intensity max: 0\n",
      "Return Number min: 0 Return Number max: 2\n",
      "Number of Returns min: 0 Number of Returns max: 2\n",
      "Number of Returns min: 0.0 Number of Returns max: 3.99993896484375\n"
     ]
    }
   ],
   "source": [
    "### Check Min and Max values for coordinates and intensity\n",
    "print(f\"X min: {pc.x.min()} X max: {pc.x.max()}\")\n",
    "print(f\"Y min: {pc.y.min()} Y max: {pc.y.max()}\")\n",
    "print(f\"Z min: {pc.z.min()} Z max: {pc.z.max()}\")\n",
    "print(f\"Intensity min: {pc.intensity.min()} Intensity max: {pc.intensity.max()}\")\n",
    "print(f\"Return Number min: {pc.return_num.min()} Return Number max: {pc.return_num.max()}\")\n",
    "print(f\"Number of Returns min: {pc.num_returns.min()} Number of Returns max: {pc.num_returns.max()}\")\n",
    "print(f\"Number of Returns min: {pc.Reflectance.min()} Number of Returns max: {pc.Reflectance.max()}\")\n"
   ]
  },
  {
   "cell_type": "markdown",
   "metadata": {},
   "source": [
    "## Filter\n",
    "\n",
    "#### Grab points that are withing 10 meters from origin"
   ]
  },
  {
   "cell_type": "code",
   "execution_count": 37,
   "metadata": {},
   "outputs": [
    {
     "name": "stdout",
     "output_type": "stream",
     "text": [
      "Shape of the coordinates:  (1020957, 3)\n",
      "Shape of the distances:  (1020957,)\n",
      "Number of points within 10m:  448823\n",
      "Number of points within 10m:  448823\n"
     ]
    }
   ],
   "source": [
    "# Grab x, y, and z coordinates\n",
    "coords = np.vstack((pc.x, pc.y, pc.z)).transpose()\n",
    "print(\"Shape of the coordinates: \", coords.shape)\n",
    "\n",
    "# Calculate euclidian distance from all points to the origin\n",
    "dists = np.linalg.norm(coords, axis=1)\n",
    "print(\"Shape of the distances: \", dists.shape)\n",
    "\n",
    "mask = dists < 10\n",
    "print(\"Number of points within 10m: \", np.sum(mask))\n",
    "\n",
    "points_within_10m = pc.points[mask]\n",
    "print(\"Number of points within 10m: \", len(points_within_10m))"
   ]
  },
  {
   "cell_type": "markdown",
   "metadata": {},
   "source": [
    "#### Nearest neibhbor search"
   ]
  },
  {
   "cell_type": "code",
   "execution_count": 38,
   "metadata": {},
   "outputs": [
    {
     "name": "stdout",
     "output_type": "stream",
     "text": [
      "Distances to the 8 neighbors:  [0.         0.14071247 0.1979899  0.2184033  0.24779023 0.25199206\n",
      " 0.26038433 0.27092434]\n",
      "Indeces of the 8 neighbors:  [  1000 742470 749610 829456 824637   2026 836568   1477]\n"
     ]
    }
   ],
   "source": [
    "from scipy.spatial import cKDTree\n",
    "\n",
    "# Get a numpy array of the point cloud\n",
    "dataset = np.vstack([pc.x, pc.y, pc.z]).transpose()\n",
    "\n",
    "# Build a KDTree\n",
    "tree = cKDTree(dataset)\n",
    "\n",
    "neighbors_distance, neighbors_indeces = tree.query(dataset[1000], k=8)\n",
    "print(\"Distances to the 8 neighbors: \", neighbors_distance)\n",
    "print(\"Indeces of the 8 neighbors: \", neighbors_indeces)"
   ]
  },
  {
   "cell_type": "markdown",
   "metadata": {},
   "source": [
    "#### Get Last Returns"
   ]
  },
  {
   "cell_type": "code",
   "execution_count": 39,
   "metadata": {},
   "outputs": [
    {
     "name": "stdout",
     "output_type": "stream",
     "text": [
      "Number of last returns:  933120\n"
     ]
    }
   ],
   "source": [
    "last_returns = pc.points[pc.num_returns == pc.return_num]\n",
    "print(\"Number of last returns: \", len(last_returns))"
   ]
  },
  {
   "cell_type": "markdown",
   "metadata": {},
   "source": [
    "#### Plot histogram of Reflectivity"
   ]
  },
  {
   "cell_type": "code",
   "execution_count": 40,
   "metadata": {},
   "outputs": [
    {
     "data": {
      "image/png": "[encoded data removed]",
      "text/plain": [
       "<Figure size 640x480 with 1 Axes>"
      ]
     },
     "metadata": {},
     "output_type": "display_data"
    }
   ],
   "source": [
    "plt.hist(pc.Reflectance, bins=50, color='b', alpha=0.7)\n",
    "plt.xlabel(\"Reflectance\")\n",
    "plt.ylabel(\"Frequency\")\n",
    "plt.title(\"Histogram of Reflectance\")\n",
    "plt.show()"
   ]
  },
  {
   "cell_type": "code",
   "execution_count": 41,
   "metadata": {},
   "outputs": [
    {
     "data": {
      "image/png": "[encoded data removed]",
      "text/plain": [
       "<Figure size 640x480 with 1 Axes>"
      ]
     },
     "metadata": {},
     "output_type": "display_data"
    }
   ],
   "source": [
    "# Exclude really more reflectance values\n",
    "\n",
    "plt.hist(pc.Reflectance[pc.Reflectance > 0.1], bins=50, color='b', alpha=0.7)\n",
    "plt.xlabel(\"Reflectance\")\n",
    "plt.ylabel(\"Frequency\")\n",
    "plt.title(\"Histogram of Reflectance\")\n",
    "plt.show()\n"
   ]
  },
  {
   "cell_type": "code",
   "execution_count": 42,
   "metadata": {},
   "outputs": [
    {
     "name": "stdout",
     "output_type": "stream",
     "text": [
      "Number of returns with reflectance value 0.0:  315430\n",
      "Number of returns with reflectance value > 3.0:  5244\n"
     ]
    }
   ],
   "source": [
    "# Number of returns with reflectance value 0.0\n",
    "print(\"Number of returns with reflectance value 0.0: \", np.sum(pc.Reflectance == 0.0))\n",
    "print(\"Number of returns with reflectance value > 3.0: \", np.sum(pc.Reflectance > 3.0))"
   ]
  },
  {
   "cell_type": "markdown",
   "metadata": {},
   "source": [
    "## Bounding Box"
   ]
  },
  {
   "cell_type": "markdown",
   "metadata": {},
   "source": [
    "#### Extract points withing a bounding box and save to a file"
   ]
  },
  {
   "cell_type": "code",
   "execution_count": 7,
   "metadata": {},
   "outputs": [
    {
     "name": "stdout",
     "output_type": "stream",
     "text": [
      "Number of points within the bounding box: 8656\n",
      "Bounding box LAS file saved as: data/output_bounding_box.las\n"
     ]
    }
   ],
   "source": [
    "\n",
    "\n",
    "# Define bounding box limits\n",
    "x_min, x_max = 30.0, 40.0\n",
    "y_min, y_max = -10.0, 10.0\n",
    "z_min, z_max = -1.0, 3.0\n",
    "\n",
    "# Create a boolean mask for points within the bounding box\n",
    "mask = (\n",
    "    (pc.x >= x_min) & (pc.x <= x_max) &\n",
    "    (pc.y >= y_min) & (pc.y <= y_max) &\n",
    "    (pc.z >= z_min) & (pc.z <= z_max)\n",
    ")\n",
    "\n",
    "nr_points_in_bbox = np.sum(mask)\n",
    "print(f\"Number of points within the bounding box: {nr_points_in_bbox}\")\n",
    "\n",
    "# Extract the subset of points using the mask\n",
    "bbox_points = pc.points[mask]\n",
    "\n",
    "\n",
    "# Create a new LAS file with the filtered points\n",
    "new_las = laspy.LasData(pc.header)\n",
    "new_las.points = bbox_points\n",
    "\n",
    "# Write the filtered data to a new LAS file\n",
    "output_file = 'data/output_bounding_box.las'\n",
    "new_las.write(output_file)\n",
    "\n",
    "print(f\"Bounding box LAS file saved as: {output_file}\")\n"
   ]
  },
  {
   "cell_type": "code",
   "execution_count": null,
   "metadata": {},
   "outputs": [],
   "source": []
  }
 ],
 "metadata": {
  "kernelspec": {
   "display_name": ".venv",
   "language": "python",
   "name": "python3"
  },
  "language_info": {
   "codemirror_mode": {
    "name": "ipython",
    "version": 3
   },
   "file_extension": ".py",
   "mimetype": "text/x-python",
   "name": "python",
   "nbconvert_exporter": "python",
   "pygments_lexer": "ipython3",
   "version": "3.9.13"
  }
 },
 "nbformat": 4,
 "nbformat_minor": 2
}
