{
 "cells": [
  {
   "cell_type": "code",
   "execution_count": null,
   "id": "9c8c9fe4",
   "metadata": {},
   "outputs": [],
   "source": [
    "# Hello RANSAC ground detection"
   ]
  },
  {
   "cell_type": "code",
   "execution_count": 1,
   "id": "85fae738",
   "metadata": {},
   "outputs": [
    {
     "name": "stdout",
     "output_type": "stream",
     "text": [
      "Jupyter environment detected. Enabling Open3D WebVisualizer.\n",
      "[Open3D INFO] WebRTC GUI backend enabled.\n",
      "[Open3D INFO] WebRTCWindowSystem: HTTP handshake server disabled.\n"
     ]
    }
   ],
   "source": [
    "# Prerequisites\n",
    "import time\n",
    "import open3d as o3d"
   ]
  },
  {
   "cell_type": "markdown",
   "id": "956ee9c5",
   "metadata": {},
   "source": [
    "### Load Point Cloud"
   ]
  },
  {
   "cell_type": "code",
   "execution_count": 16,
   "id": "a092a1cb",
   "metadata": {},
   "outputs": [],
   "source": [
    "pc = o3d.io.read_point_cloud(\"point_clouds_public/lidar.ply\")\n",
    "\n",
    "o3d.visualization.draw_geometries([pc])"
   ]
  },
  {
   "cell_type": "markdown",
   "id": "88fb1524",
   "metadata": {},
   "source": [
    "### Fit RANSAC"
   ]
  },
  {
   "cell_type": "code",
   "execution_count": 17,
   "id": "db05fa7f",
   "metadata": {},
   "outputs": [
    {
     "name": "stdout",
     "output_type": "stream",
     "text": [
      "Threshold: 0.25, Number of iterations: 100 \n",
      "Number of inlier points (ground points):  75790\n",
      "Number of outliers (not ground):  47894\n",
      "inliers/outliers ratio:  1.5824529168580614\n",
      "RANSAC Processing time: 0.0243 seconds\n"
     ]
    }
   ],
   "source": [
    "threshold = 0.25\n",
    "iterations = 100\n",
    "\n",
    "t_start = time.time()\n",
    "plane_model, inlier_points = pc.segment_plane(distance_threshold=threshold, ransac_n=3, num_iterations=iterations)\n",
    "\n",
    "# Separate inliers and outliers\n",
    "inliers = pc.select_by_index(inlier_points)\n",
    "outliers = pc.select_by_index(inlier_points, invert=True)\n",
    "t_end = time.time()\n",
    "\n",
    "print(f\"Threshold: {threshold}, Number of iterations: {iterations} \")\n",
    "print(\"Number of inlier points (ground points): \", len(inliers.points))\n",
    "print(\"Number of outliers (not ground): \", len(outliers.points))\n",
    "print(\"inliers/outliers ratio: \", len(inliers.points)/len(outliers.points))\n",
    "\n",
    "print(f\"RANSAC Processing time: {t_end-t_start:.4f} seconds\")"
   ]
  },
  {
   "cell_type": "markdown",
   "id": "fc3ee184",
   "metadata": {},
   "source": [
    "### Visualize"
   ]
  },
  {
   "cell_type": "code",
   "execution_count": 18,
   "id": "4274deb4",
   "metadata": {},
   "outputs": [],
   "source": [
    "outliers.paint_uniform_color([1,0,0])   # Outliers in Red\n",
    "inliers.paint_uniform_color([0,0,1])  # Inliers (ground) in Blue\n",
    "\n",
    "o3d.visualization.draw_geometries([inliers, outliers])"
   ]
  },
  {
   "cell_type": "markdown",
   "id": "d74b94b4",
   "metadata": {},
   "source": [
    "### Export Inliers and Outliers"
   ]
  },
  {
   "cell_type": "code",
   "execution_count": 19,
   "id": "f95c1241",
   "metadata": {},
   "outputs": [
    {
     "data": {
      "text/plain": [
       "True"
      ]
     },
     "execution_count": 19,
     "metadata": {},
     "output_type": "execute_result"
    }
   ],
   "source": [
    "o3d.io.write_point_cloud(\"outputs/lidar_ground_inliers.ply\", inliers)\n",
    "o3d.io.write_point_cloud(\"outputs/lidar_ground_outliers.ply\", outliers)"
   ]
  }
 ],
 "metadata": {
  "kernelspec": {
   "display_name": ".venv",
   "language": "python",
   "name": "python3"
  },
  "language_info": {
   "codemirror_mode": {
    "name": "ipython",
    "version": 3
   },
   "file_extension": ".py",
   "mimetype": "text/x-python",
   "name": "python",
   "nbconvert_exporter": "python",
   "pygments_lexer": "ipython3",
   "version": "3.12.7"
  }
 },
 "nbformat": 4,
 "nbformat_minor": 5
}
